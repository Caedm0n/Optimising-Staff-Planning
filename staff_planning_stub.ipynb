{
 "cells": [
  {
   "cell_type": "code",
   "execution_count": 1,
   "metadata": {},
   "outputs": [],
   "source": [
    "# Importing Libraries \n",
    "import pandas as pd\n",
    "import numpy as np\n",
    "import matplotlib.pyplot as plt\n",
    "import math\n",
    "from pyomo.environ import *"
   ]
  },
  {
   "cell_type": "code",
   "execution_count": 2,
   "metadata": {},
   "outputs": [],
   "source": [
    "from __future__ import division\n",
    "from pyomo.opt import SolverFactory"
   ]
  },
  {
   "cell_type": "code",
   "execution_count": 3,
   "metadata": {},
   "outputs": [],
   "source": [
    "# Reading the data from Excel workbook\n",
    "InputData = \"Staffing+Data.xlsx\"\n",
    "StaffAv = pd.read_excel(InputData, sheet_name=\"StaffAvailability\")\n",
    "Cost = pd.read_excel(InputData, sheet_name=\"Cost\")\n",
    "transCost = pd.read_excel(InputData, sheet_name=\"ServiceRate\")\n",
    "Demand_data = pd.read_excel(InputData, sheet_name=\"DemandData\")"
   ]
  },
  {
   "cell_type": "code",
   "execution_count": null,
   "metadata": {},
   "outputs": [],
   "source": [
    "print('Staff Availability')\n",
    "print(StaffAv.head(),'\\n')\n",
    "print('Cost')\n",
    "print(Cost.head(),'\\n')\n",
    "print('Service Rate')\n",
    "print(transCost.head(),'\\n')\n",
    "print('Demand Data')\n",
    "print(Demand_data.head())"
   ]
  },
  {
   "cell_type": "markdown",
   "metadata": {},
   "source": [
    "## Data pre-processing "
   ]
  },
  {
   "cell_type": "code",
   "execution_count": 5,
   "metadata": {},
   "outputs": [],
   "source": [
    "# Create the required Python data structures for indexes and parameters\n",
    "#Create Demand dict\n",
    "Demand = Demand_data.set_index(['State','Month'])['Demand'].to_dict()\n",
    "\n",
    "#Create full time employee salary dict\n",
    "FTE_Salary = Cost.set_index(['State','Month'])['MonthlySalary'].to_dict()\n",
    "\n",
    "#Create unit out source cost dict\n",
    "UnitOutSourceCost = Cost.set_index(['State','Month'])['UnitOutSourceCost'].to_dict()"
   ]
  },
  {
   "cell_type": "code",
   "execution_count": null,
   "metadata": {},
   "outputs": [],
   "source": [
    "print(Demand)\n",
    "print('################################')\n",
    "print(FTE_Salary)\n",
    "print('################################')\n",
    "print(UnitOutSourceCost)"
   ]
  },
  {
   "cell_type": "code",
   "execution_count": 7,
   "metadata": {},
   "outputs": [
    {
     "data": {
      "text/plain": [
       "40"
      ]
     },
     "execution_count": 7,
     "metadata": {},
     "output_type": "execute_result"
    }
   ],
   "source": [
    "# Number of Applications when Employee working full time\n",
    "FTE_AppServeRate = transCost.iloc[0,0]\n",
    "FTE_AppServeRate"
   ]
  },
  {
   "cell_type": "code",
   "execution_count": 8,
   "metadata": {},
   "outputs": [],
   "source": [
    "# Staff Availability for serving the Insurance Applications\n",
    "\n",
    "StaffAv_LB = StaffAv.set_index(['State','Month'])['LB'].to_dict()\n",
    "StaffAv_UB = StaffAv.set_index(['State','Month'])['UB'].to_dict()\n",
    "StaffAvPer = StaffAv.set_index(['State','Month'])['StaffAvPer'].to_dict()"
   ]
  },
  {
   "cell_type": "markdown",
   "metadata": {},
   "source": [
    "## Indexes"
   ]
  },
  {
   "cell_type": "code",
   "execution_count": null,
   "metadata": {},
   "outputs": [],
   "source": [
    "BankLoc = list(Cost['State'].unique())\n",
    "BankLoc"
   ]
  },
  {
   "cell_type": "code",
   "execution_count": null,
   "metadata": {},
   "outputs": [],
   "source": [
    "Month = list(Cost['Month'].unique())\n",
    "Month"
   ]
  },
  {
   "cell_type": "markdown",
   "metadata": {},
   "source": [
    "# Question 1\n",
    "\n",
    "The company wants to know the optimised staffing recommendations for the business case described. \n",
    "Write the mathematical model for the deterministic optimisation problem. Define and explain your decision variables, objective function and the constraint. (Hint: Use months of the year as the model timeline).\n",
    "\n"
   ]
  },
  {
   "cell_type": "markdown",
   "metadata": {},
   "source": [
    "*Answered in the report*"
   ]
  },
  {
   "cell_type": "markdown",
   "metadata": {},
   "source": [
    "**Note:** You can write the mathematical formulation directly in your report."
   ]
  },
  {
   "cell_type": "markdown",
   "metadata": {},
   "source": [
    "# Question 2\n",
    "\n",
    "Code the problem is Python and use any optimization package to solve it. Add comments to your code to explain each step. "
   ]
  },
  {
   "cell_type": "markdown",
   "metadata": {},
   "source": [
    "#### Expected output:\n",
    "\n",
    "Create a data frame containing the number of outsourced applications  and the number of FTEs for each state-month combination. You can choose to have extra columns like staff availability, demand etc. in your dataframe apart from the ones mentioned earlier. "
   ]
  },
  {
   "cell_type": "code",
   "execution_count": 11,
   "metadata": {},
   "outputs": [],
   "source": [
    "# Creating a model instance\n",
    "model = ConcreteModel()"
   ]
  },
  {
   "cell_type": "code",
   "execution_count": 12,
   "metadata": {},
   "outputs": [],
   "source": [
    "# Define Pyomo sets and Parameters\n",
    "model.bankloc = Set(initialize = BankLoc, doc='State')\n",
    "model.month = Set(initialize = Month, doc='Month')"
   ]
  },
  {
   "cell_type": "code",
   "execution_count": null,
   "metadata": {},
   "outputs": [],
   "source": [
    "# Parameters -> Demand, FTE Salaries, Outsourcing cost, Average Staff Availability\n",
    "model.demand = Param(model.bankloc, model.month, initialize=Demand, doc='Demand')\n",
    "model.salary = Param(model.bankloc, model.month, initialize=FTE_Salary, doc='FTE_Salary')\n",
    "model.unitcost = Param(model.bankloc, model.month, initialize=UnitOutSourceCost, doc='UnitOutSourceCost')\n",
    "model.staffavper = Param(model.bankloc, model.month, initialize=StaffAvPer, doc='StaffAvPercent')"
   ]
  },
  {
   "cell_type": "code",
   "execution_count": 14,
   "metadata": {},
   "outputs": [],
   "source": [
    "# Scalar Application Serve Rate when working full time(100%)\n",
    "model.fteapprate = Param(initialize=FTE_AppServeRate, doc='FTE App Serve Rate')"
   ]
  },
  {
   "cell_type": "code",
   "execution_count": 15,
   "metadata": {},
   "outputs": [],
   "source": [
    "# Parameter for no of applications that can be processed for the given staff availaibility\n",
    "def fteapp_staffav(model, loc, m):\n",
    "    return model.fteapprate * model.staffavper[loc,m]\n",
    "\n",
    "model.fteappno = Param(model.bankloc, model.month, initialize=fteapp_staffav, doc='No of FTE App as per StaffAvPer')"
   ]
  },
  {
   "cell_type": "code",
   "execution_count": 16,
   "metadata": {},
   "outputs": [],
   "source": [
    "# Decision variables\n",
    "model.fte = Var(model.bankloc,model.month,domain = NonNegativeReals, doc='No of FTE')\n",
    "model.outsourced = Var(model.bankloc,model.month, domain = NonNegativeIntegers, doc='No of Outsourced applications')"
   ]
  },
  {
   "cell_type": "code",
   "execution_count": 17,
   "metadata": {},
   "outputs": [],
   "source": [
    "# Constraints\n",
    "\n",
    "#Constraint 1 -> Demand constraints\n",
    "def demand_constraint(model,loc,m):\n",
    "    return model.fte[loc,m]*model.fteappno[loc,m] + model.outsourced[loc,m] == model.demand[loc,m]\n",
    "\n",
    "model.demand_meet = Constraint(model.bankloc, model.month, rule = demand_constraint)\n",
    "\n",
    "# Constraint 2 --> Regulatory Constraints on outsourced applications\n",
    "# State A --> 30%\n",
    "# State B --> 40%\n",
    "# State C --> No limit\n",
    "\n",
    "Max_outsourced = {'A':0.3,'B':0.4,'C':1.0}\n",
    "\n",
    "def outsourced_limit(model,loc,m):\n",
    "    return model.outsourced[loc,m] <= Max_outsourced[loc]*model.demand[loc,m]\n",
    "\n",
    "model.outsourced_lim = Constraint(model.bankloc, model.month, rule = outsourced_limit)"
   ]
  },
  {
   "cell_type": "code",
   "execution_count": 18,
   "metadata": {},
   "outputs": [],
   "source": [
    "# Objective function\n",
    "def obj_rule(model):\n",
    "    return sum(model.fte[loc,m]*model.salary[loc,m] for loc in model.bankloc for m in model.month) + \\\n",
    "           sum(model.unitcost[loc,m]*model.outsourced[loc,m] for loc in model.bankloc for m in model.month)\n",
    "\n",
    "model.cost = Objective(rule = obj_rule, sense=minimize, doc=\"Cost of total applications\")"
   ]
  },
  {
   "cell_type": "code",
   "execution_count": null,
   "metadata": {},
   "outputs": [],
   "source": [
    "# Invoking the solver\n",
    "result = SolverFactory('glpk').solve(model)\n",
    "result.write()"
   ]
  },
  {
   "cell_type": "code",
   "execution_count": null,
   "metadata": {},
   "outputs": [],
   "source": [
    "# Print the value of the objective function\n",
    "model.cost()"
   ]
  },
  {
   "cell_type": "markdown",
   "metadata": {},
   "source": [
    "**`Checkpoint 1:`** Seems like the company has to spend around 17.9 m$ in total for the application approval process."
   ]
  },
  {
   "cell_type": "code",
   "execution_count": null,
   "metadata": {},
   "outputs": [],
   "source": [
    "# Creating dataframe for the results\n",
    "# FTE_StaffAvPer containing FTE and number of applications outsourced\n",
    "FTE_StaffAvPer = []\n",
    "for loc in BankLoc:\n",
    "    for m in Month:\n",
    "        v = model.fte[loc,m].value\n",
    "        w = model.outsourced[loc,m].value\n",
    "        d = model.demand[loc,m]\n",
    "        sa = model.staffavper[loc,m]\n",
    "        FTE_StaffAvPer.append([loc,m,d,sa,v,w])\n",
    "        \n",
    "FTE_StaffAvPer = pd.DataFrame(FTE_StaffAvPer, columns=['State','Month','Demand','Staff Availability','FTE','App_Outsourced'])\n",
    "FTE_StaffAvPer"
   ]
  },
  {
   "cell_type": "code",
   "execution_count": null,
   "metadata": {},
   "outputs": [],
   "source": [
    "# Some obtained results --> Average FTE per month across all states\n",
    "TotalFTE = FTE_StaffAvPer['FTE'].sum()\n",
    "AverageFTEPerMonth = (TotalFTE/(12*3)).round(2)  #Since we are looking for all states, 3 has been multiplied in the denominator\n",
    "AverageFTEPerMonth"
   ]
  },
  {
   "cell_type": "code",
   "execution_count": null,
   "metadata": {},
   "outputs": [],
   "source": [
    "#Total Application Demand\n",
    "TotalAppDemand = Demand_data['Demand'].sum()\n",
    "TotalAppDemand"
   ]
  },
  {
   "cell_type": "code",
   "execution_count": null,
   "metadata": {},
   "outputs": [],
   "source": [
    "# Percentage of Outsourced Applications\n",
    "PercentageOutsourced = ((FTE_StaffAvPer['App_Outsourced'].sum()/TotalAppDemand)*100).round(2)\n",
    "PercentageOutsourced"
   ]
  },
  {
   "cell_type": "code",
   "execution_count": null,
   "metadata": {},
   "outputs": [],
   "source": [
    "TotalCost = model.cost()\n",
    "AverageCostPerAppl = (TotalCost / TotalAppDemand).round(2)\n",
    "AverageCostPerAppl"
   ]
  },
  {
   "cell_type": "markdown",
   "metadata": {},
   "source": [
    "# Question 3\n",
    "\n",
    "#### Worst-case and best-case analysis based on the staffs' availability.\n",
    "\n",
    "Assuming that the distribution is the same across all the states,\n",
    "\n",
    "#### 3.1 Worst case analysis \n",
    "\n",
    "- 3.1.1 What is the optimal number of staff members for the worst case? \n",
    "\n",
    "- 3.1.2 What is the percentage of outsourcing for the worst case? \n",
    "\n",
    "- 3.1.3 What is the average cost per application for the worst case?\n",
    "\n",
    "\n",
    "#### 3.2 Best case analysis \n",
    "\n",
    "- 3.2.1 What is the optimal number of staff members for the best case? \n",
    "\n",
    "- 3.2.2 What is the percentage of outsourcing for the best case? \n",
    "\n",
    "- 3.2.3 What is the average cost per application for the best case?\n"
   ]
  },
  {
   "cell_type": "markdown",
   "metadata": {},
   "source": [
    "#### Expected output:\n",
    "\n",
    "For each of the subtasks (3.1 and 3.2) create a data frame containing the number of outsourced applications and the number of FTEs for each state-month combination. You can choose to have extra columns like staff availability, demand etc. in your dataframe apart from the ones mentioned earlier. Also, print the overall average percentage of outsourced applications and the overall average cost per application. "
   ]
  },
  {
   "cell_type": "markdown",
   "metadata": {},
   "source": [
    "### 3.1 Worst Case Analysis "
   ]
  },
  {
   "cell_type": "markdown",
   "metadata": {},
   "source": [
    "#### 3.1.1 Optimal number of staff members"
   ]
  },
  {
   "cell_type": "code",
   "execution_count": null,
   "metadata": {},
   "outputs": [],
   "source": [
    "# Creating a model instance\n",
    "model_lb =  ConcreteModel()"
   ]
  },
  {
   "cell_type": "code",
   "execution_count": null,
   "metadata": {},
   "outputs": [],
   "source": [
    "# Define Pyomo sets and Parameters\n",
    "model_lb.bankloc = Set(initialize = BankLoc, doc='State')\n",
    "model_lb.month = Set(initialize = Month, doc='Month')"
   ]
  },
  {
   "cell_type": "code",
   "execution_count": null,
   "metadata": {},
   "outputs": [],
   "source": [
    "# Parameters -> Demand, FTE Salaries, Outsourcing cost, Staff Availability Lower Bound\n",
    "model_lb.demand = Param(model_lb.bankloc, model_lb.month, initialize=Demand, doc='Demand')\n",
    "model_lb.salary = Param(model_lb.bankloc, model_lb.month, initialize=FTE_Salary, doc='FTE_Salary')\n",
    "model_lb.unitcost = Param(model_lb.bankloc, model_lb.month, initialize=UnitOutSourceCost, doc='UnitOutSourceCost')\n",
    "model_lb.staffavlb = Param(model_lb.bankloc, model_lb.month, initialize=StaffAv_LB, doc='StaffAvLowerBound')"
   ]
  },
  {
   "cell_type": "code",
   "execution_count": null,
   "metadata": {},
   "outputs": [],
   "source": [
    "# Scalar Application Serve Rate when working full time(100%)\n",
    "model_lb.fteapprate = Param(initialize=FTE_AppServeRate, doc='FTE App Serve Rate')"
   ]
  },
  {
   "cell_type": "code",
   "execution_count": null,
   "metadata": {},
   "outputs": [],
   "source": [
    "# Parameter for no of applications that can be processed for the given staff availaibility\n",
    "def fteapp_staffavlb(model, loc, m):\n",
    "    return model_lb.fteapprate * model_lb.staffavlb[loc,m]\n",
    "\n",
    "model_lb.fteappno = Param(model_lb.bankloc, model_lb.month, initialize=fteapp_staffavlb, doc='No of FTE App as per StaffAv_LB')"
   ]
  },
  {
   "cell_type": "code",
   "execution_count": null,
   "metadata": {},
   "outputs": [],
   "source": [
    "# Decision variables\n",
    "model_lb.fte = Var(model_lb.bankloc,model_lb.month,domain = NonNegativeReals, doc='No of FTE')\n",
    "model_lb.outsourced = Var(model_lb.bankloc,model_lb.month, domain = NonNegativeIntegers, doc='No of Outsourced applications')"
   ]
  },
  {
   "cell_type": "code",
   "execution_count": null,
   "metadata": {},
   "outputs": [],
   "source": [
    "# Constraints\n",
    "\n",
    "#Constraint 1 -> Demand constraints\n",
    "def demand_constraint(model,loc,m):\n",
    "    return model_lb.fte[loc,m]*model_lb.fteappno[loc,m] + model_lb.outsourced[loc,m] == model_lb.demand[loc,m]\n",
    "\n",
    "model_lb.demand_meet = Constraint(model_lb.bankloc, model_lb.month, rule = demand_constraint)\n",
    "\n",
    "# Constraint 2 ->Regulatory Constraints on outsourced applications\n",
    "# State A --> 30%\n",
    "# State B --> 40%\n",
    "# State C --> No limit\n",
    "\n",
    "Max_outsourced = {'A':0.3,'B':0.4,'C':1.0}\n",
    "\n",
    "def outsourced_limit(model,loc,m):\n",
    "    return model_lb.outsourced[loc,m] <= Max_outsourced[loc]*model_lb.demand[loc,m]\n",
    "\n",
    "model_lb.outsourced_lim = Constraint(model_lb.bankloc, model_lb.month, rule = outsourced_limit)"
   ]
  },
  {
   "cell_type": "code",
   "execution_count": null,
   "metadata": {},
   "outputs": [],
   "source": [
    "# Objective function\n",
    "def obj_rule(model):\n",
    "    return sum(model_lb.fte[loc,m]*model_lb.salary[loc,m] for loc in model_lb.bankloc for m in model_lb.month) + \\\n",
    "           sum(model_lb.unitcost[loc,m]*model_lb.outsourced[loc,m] for loc in model_lb.bankloc for m in model_lb.month)\n",
    "\n",
    "model_lb.cost = Objective(rule = obj_rule)"
   ]
  },
  {
   "cell_type": "code",
   "execution_count": null,
   "metadata": {},
   "outputs": [],
   "source": [
    "# Invoking the solver\n",
    "result = SolverFactory('glpk').solve(model_lb)\n",
    "result.write()"
   ]
  },
  {
   "cell_type": "code",
   "execution_count": null,
   "metadata": {},
   "outputs": [],
   "source": [
    "# Print the value of the objective function\n",
    "model_lb.cost()"
   ]
  },
  {
   "cell_type": "markdown",
   "metadata": {},
   "source": [
    "**`Checkpoint 2:`** The company has to spend around 19.6 m$ in total for the application approval process if the staffs are working with the minimum availability."
   ]
  },
  {
   "cell_type": "code",
   "execution_count": null,
   "metadata": {},
   "outputs": [],
   "source": [
    "# Creating dataframe for the results\n",
    "# FTE_StaffAv_LB containing FTE and number of applications outsourced\n",
    "FTE_StaffAv_LB = []\n",
    "for loc in BankLoc:\n",
    "    for m in Month:\n",
    "        v = model_lb.fte[loc,m].value\n",
    "        w = model_lb.outsourced[loc,m].value\n",
    "        d = model.demand[loc,m]\n",
    "        sa = model.staffavper[loc,m]\n",
    "        FTE_StaffAv_LB.append([loc,m,d,sa,v,w])\n",
    "        \n",
    "FTE_StaffAv_LB = pd.DataFrame(FTE_StaffAv_LB, columns=['State','Month','Demand','Staff Availability','FTE','App_Outsourced'])\n",
    "FTE_StaffAv_LB"
   ]
  },
  {
   "cell_type": "markdown",
   "metadata": {},
   "source": [
    "#### 3.1.2 Percentage of outsourced applications "
   ]
  },
  {
   "cell_type": "code",
   "execution_count": null,
   "metadata": {},
   "outputs": [],
   "source": [
    "# write your code here\n",
    "PercentageOutsourced_LB = ((FTE_StaffAv_LB['App_Outsourced'].sum()/TotalAppDemand)*100).round(2)\n",
    "PercentageOutsourced_LB"
   ]
  },
  {
   "cell_type": "markdown",
   "metadata": {},
   "source": [
    "#### 3.1.3 Average cost per application"
   ]
  },
  {
   "cell_type": "code",
   "execution_count": null,
   "metadata": {},
   "outputs": [],
   "source": [
    "# write your code here\n",
    "TotalCost_LB = model_lb.cost()\n",
    "AverageCostPerAppl_LB = (TotalCost_LB / TotalAppDemand).round(2)\n",
    "AverageCostPerAppl_LB"
   ]
  },
  {
   "cell_type": "markdown",
   "metadata": {},
   "source": [
    "### 3.2  Best Case Analysis "
   ]
  },
  {
   "cell_type": "markdown",
   "metadata": {},
   "source": [
    "#### 3.2.1 Optimal number of staff members\n"
   ]
  },
  {
   "cell_type": "code",
   "execution_count": null,
   "metadata": {},
   "outputs": [],
   "source": [
    "# Creating a model instance\n",
    "model_ub =  ConcreteModel()"
   ]
  },
  {
   "cell_type": "code",
   "execution_count": null,
   "metadata": {},
   "outputs": [],
   "source": [
    "# Define Pyomo sets and Parameters\n",
    "model_ub.bankloc = Set(initialize = BankLoc, doc='State')\n",
    "model_ub.month = Set(initialize = Month, doc='Month')"
   ]
  },
  {
   "cell_type": "code",
   "execution_count": null,
   "metadata": {},
   "outputs": [],
   "source": [
    "# Parameters -> Demand, FTE Salaries, Outsourcing cost, Staff Availability Upper Bound\n",
    "model_ub.demand = Param(model_ub.bankloc, model_ub.month, initialize=Demand, doc='Demand')\n",
    "model_ub.salary = Param(model_ub.bankloc, model_ub.month, initialize=FTE_Salary, doc='FTE_Salary')\n",
    "model_ub.unitcost = Param(model_ub.bankloc, model_ub.month, initialize=UnitOutSourceCost, doc='UnitOutSourceCost')\n",
    "model_ub.staffavub = Param(model_ub.bankloc, model_ub.month, initialize=StaffAv_UB, doc='StaffAvUpperBound')"
   ]
  },
  {
   "cell_type": "code",
   "execution_count": null,
   "metadata": {},
   "outputs": [],
   "source": [
    "# Scalar Application Serve Rate when working full time(100%)\n",
    "model_ub.fteapprate = Param(initialize=FTE_AppServeRate, doc='FTE App Serve Rate')"
   ]
  },
  {
   "cell_type": "code",
   "execution_count": null,
   "metadata": {},
   "outputs": [],
   "source": [
    "# Parameter for no of applications that can be processed for the given staff availaibility\n",
    "def fteapp_staffavub(model, loc, m):\n",
    "    return model_ub.fteapprate * model_ub.staffavub[loc,m]\n",
    "\n",
    "model_ub.fteappno = Param(model_ub.bankloc, model_ub.month, initialize=fteapp_staffavub, doc='No of FTE App as per StaffAv_UB')"
   ]
  },
  {
   "cell_type": "code",
   "execution_count": null,
   "metadata": {},
   "outputs": [],
   "source": [
    "# Decision variables\n",
    "model_ub.fte = Var(model_ub.bankloc,model_ub.month,domain = NonNegativeReals, doc='No of FTE')\n",
    "model_ub.outsourced = Var(model_ub.bankloc,model_ub.month, domain = NonNegativeIntegers, doc='No of Outsourced applications')"
   ]
  },
  {
   "cell_type": "code",
   "execution_count": null,
   "metadata": {},
   "outputs": [],
   "source": [
    "# Constraints\n",
    "\n",
    "#Constraint 1 -> Demand constraints\n",
    "def demand_constraint(model,loc,m):\n",
    "    return model_ub.fte[loc,m]*model_ub.fteappno[loc,m] + model_ub.outsourced[loc,m] == model_ub.demand[loc,m]\n",
    "\n",
    "model_ub.demand_meet = Constraint(model_ub.bankloc, model_ub.month, rule = demand_constraint)\n",
    "\n",
    "# Constraint 2 -> Regulatory Constraints on outsourced applications\n",
    "# State A --> 30%\n",
    "# State B --> 40%\n",
    "# State C --> No limit\n",
    "\n",
    "Max_outsourced = {'A':0.3,'B':0.4,'C':1.0}\n",
    "\n",
    "def outsourced_limit(model,loc,m):\n",
    "    return model_ub.outsourced[loc,m] <= Max_outsourced[loc]*model_ub.demand[loc,m]\n",
    "\n",
    "model_ub.outsourced_lim = Constraint(model_ub.bankloc, model_ub.month, rule = outsourced_limit)"
   ]
  },
  {
   "cell_type": "code",
   "execution_count": null,
   "metadata": {},
   "outputs": [],
   "source": [
    "# Objective function\n",
    "def obj_rule(model):\n",
    "    return sum(model_ub.fte[loc,m]*model_ub.salary[loc,m] for loc in model_ub.bankloc for m in model_ub.month) + \\\n",
    "           sum(model_ub.unitcost[loc,m]*model_ub.outsourced[loc,m] for loc in model_ub.bankloc for m in model_ub.month)\n",
    "\n",
    "model_ub.cost = Objective(rule = obj_rule)"
   ]
  },
  {
   "cell_type": "code",
   "execution_count": null,
   "metadata": {},
   "outputs": [],
   "source": [
    "# Invoking the solver\n",
    "result = SolverFactory('glpk').solve(model_ub)\n",
    "result.write()"
   ]
  },
  {
   "cell_type": "code",
   "execution_count": null,
   "metadata": {},
   "outputs": [],
   "source": [
    "# Print the value of the objective function\n",
    "model_ub.cost()"
   ]
  },
  {
   "cell_type": "markdown",
   "metadata": {},
   "source": [
    "**`Checkpoint 3:`** The company has to spend around 16.5 m$ in total for the application approval process if the staffs are working with the maximum availability."
   ]
  },
  {
   "cell_type": "code",
   "execution_count": null,
   "metadata": {},
   "outputs": [],
   "source": [
    "# Creating dataframe for the results\n",
    "# FTE_StaffAv_UB containing FTE and number of applications outsourced\n",
    "FTE_StaffAv_UB = []\n",
    "for loc in BankLoc:\n",
    "    for m in Month:\n",
    "        v = model_ub.fte[loc,m].value\n",
    "        w = model_ub.outsourced[loc,m].value\n",
    "        d = model.demand[loc,m]\n",
    "        sa = model.staffavper[loc,m]\n",
    "        FTE_StaffAv_UB.append([loc,m,d,sa,v,w])\n",
    "        \n",
    "FTE_StaffAv_UB = pd.DataFrame(FTE_StaffAv_UB, columns=['State','Month','Demand','Staff Availability','FTE','App_Outsourced'])\n",
    "FTE_StaffAv_UB"
   ]
  },
  {
   "cell_type": "markdown",
   "metadata": {},
   "source": [
    "#### 3.2.2 Percentage of outsourced applications"
   ]
  },
  {
   "cell_type": "code",
   "execution_count": null,
   "metadata": {},
   "outputs": [],
   "source": [
    "# write your code here\n",
    "PercentageOutsourced_UB = ((FTE_StaffAv_UB['App_Outsourced'].sum()/TotalAppDemand)*100).round(2)\n",
    "PercentageOutsourced_UB"
   ]
  },
  {
   "cell_type": "markdown",
   "metadata": {},
   "source": [
    "#### 3.2.3 Average cost per application"
   ]
  },
  {
   "cell_type": "code",
   "execution_count": null,
   "metadata": {},
   "outputs": [],
   "source": [
    "# write your code here\n",
    "TotalCost_UB = model_ub.cost()\n",
    "AverageCostPerAppl_UB = (TotalCost_UB / TotalAppDemand).round(2)\n",
    "AverageCostPerAppl_UB"
   ]
  },
  {
   "cell_type": "markdown",
   "metadata": {},
   "source": [
    "# Question 4\n",
    "\n",
    "#### Creating Visualisations"
   ]
  },
  {
   "cell_type": "markdown",
   "metadata": {},
   "source": [
    "Create the following visualisations using your preferred method (i.e. Python, PowerPoint, Power BI, etc.) and add it to your report. \n",
    "\n",
    "Use the solution of Q2 to create a stacked column chart that shows the percentage of applications processed by the staff and by the vendor for each month (%staff processed applications+ %vendor processed applications should add up to 100%). \n",
    "Create a graph to show how the cost per application increases with respect to any change in the parameters in your analysis.\n",
    "Hint: Use the cost per application that you calculate in Questions 2 and 3 (i.e., the best case, and the worst case). "
   ]
  },
  {
   "cell_type": "markdown",
   "metadata": {},
   "source": [
    "**Note:** You can create the charts in Python or some other visualisation tools and make it a part of your final report directly."
   ]
  },
  {
   "cell_type": "code",
   "execution_count": null,
   "metadata": {},
   "outputs": [],
   "source": [
    "df = FTE_StaffAvPer.copy()\n",
    "df"
   ]
  },
  {
   "cell_type": "code",
   "execution_count": null,
   "metadata": {},
   "outputs": [],
   "source": [
    "df[\"FTE_Percent\"] = (df[\"FTE\"]*df[\"Staff Availability\"]*40)*100/df[\"Demand\"]\n",
    "df[\"App_Outsourced_Percent\"] = df[\"App_Outsourced\"]*100/df[\"Demand\"]"
   ]
  },
  {
   "cell_type": "code",
   "execution_count": null,
   "metadata": {},
   "outputs": [],
   "source": [
    "df.head()"
   ]
  },
  {
   "cell_type": "code",
   "execution_count": null,
   "metadata": {},
   "outputs": [],
   "source": [
    "df.set_index(['Month', 'State'], inplace=True)"
   ]
  },
  {
   "cell_type": "code",
   "execution_count": null,
   "metadata": {},
   "outputs": [],
   "source": [
    "df = df.unstack(level=-1)"
   ]
  },
  {
   "cell_type": "code",
   "execution_count": null,
   "metadata": {},
   "outputs": [],
   "source": [
    "df0 = df[[\"FTE_Percent\", \"App_Outsourced_Percent\"]]\n",
    "df0.head()"
   ]
  },
  {
   "cell_type": "code",
   "execution_count": null,
   "metadata": {},
   "outputs": [],
   "source": [
    "ordered= ['Jan','Feb','Mar','Apr','May','Jun','Jul','Aug','Sep','Oct','Nov','Dec']\n",
    "df0 = df0.reindex(ordered)"
   ]
  },
  {
   "cell_type": "code",
   "execution_count": null,
   "metadata": {},
   "outputs": [],
   "source": [
    "fig, ax = plt.subplots()\n",
    "fig.set_size_inches(18.5, 10.5)\n",
    "(df0['FTE_Percent']+df0['App_Outsourced_Percent']).plot(kind='bar', color=[(0.05, 0.80, 0.89), (0.0, 0.6, 0.98),(0.12, 0.3, 0.7)], rot=0, ax=ax)\n",
    "df0['App_Outsourced_Percent'].plot(kind='bar', color=[(0.89, 0.10, 0.10), (0.9, 0.3, 0.8), (0.54, 0.1, 0.6)], rot=0, ax=ax)\n",
    "\n",
    "legend_labels = [f'{state} ({param})' for param, state in df0.columns]\n",
    "ax.legend(legend_labels, loc=\"best\")\n",
    "\n",
    "rects = ax.patches\n",
    "labels = ['A'] * 12 + ['B']*12 + ['C']*12\n",
    "\n",
    "for rect, label in zip(rects, labels):\n",
    "    height = rect.get_height()\n",
    "    ax.text(\n",
    "        rect.get_x() + rect.get_width() / 2, height + 0.1, label, ha=\"center\", va=\"bottom\"\n",
    "    )\n",
    "\n",
    "plt.ylabel(\"FTE percent v/s Outsourced percent\")\n",
    "plt.title(\"Month and Statewise comparison of FTE v/s Outsourced\")\n",
    "plt.show()"
   ]
  },
  {
   "cell_type": "markdown",
   "metadata": {},
   "source": [
    "## State Wise analysis"
   ]
  },
  {
   "cell_type": "code",
   "execution_count": null,
   "metadata": {},
   "outputs": [],
   "source": [
    "state_df = FTE_StaffAvPer.copy()\n",
    "state_df.head()"
   ]
  },
  {
   "cell_type": "code",
   "execution_count": null,
   "metadata": {},
   "outputs": [],
   "source": [
    "state_df[\"FTE_App\"] = state_df[\"FTE\"]*state_df[\"Staff Availability\"]*FTE_AppServeRate\n",
    "state_df.head()"
   ]
  },
  {
   "cell_type": "code",
   "execution_count": null,
   "metadata": {},
   "outputs": [],
   "source": [
    "state_df = state_df.groupby(\"State\")[[\"Demand\",\"FTE\",\"FTE_App\", \"App_Outsourced\"]].sum()\n",
    "state_df.head()"
   ]
  },
  {
   "cell_type": "code",
   "execution_count": null,
   "metadata": {},
   "outputs": [],
   "source": [
    "state_df[\"FTE_Percent\"] = state_df[\"FTE_App\"]*100/state_df[\"Demand\"]\n",
    "state_df[\"App_Outsourced_Percent\"] = state_df[\"App_Outsourced\"]*100/state_df[\"Demand\"]\n",
    "state_df"
   ]
  },
  {
   "cell_type": "code",
   "execution_count": null,
   "metadata": {},
   "outputs": [],
   "source": [
    "cost_per_month_state = {'A':5000,'B':4583.333333,'C':4416.666666}\n",
    "state_df[\"FTE Cost per month\"] = state_df.index.map(cost_per_month_state)\n",
    "state_df"
   ]
  },
  {
   "cell_type": "code",
   "execution_count": null,
   "metadata": {},
   "outputs": [],
   "source": [
    "outsource_cost_per_app = {'A':180,'B':150,'C':160}\n",
    "state_df[\"Outsource Cost per App\"] = state_df.index.map(outsource_cost_per_app)\n",
    "state_df"
   ]
  },
  {
   "cell_type": "code",
   "execution_count": null,
   "metadata": {},
   "outputs": [],
   "source": [
    "state_df[\"Total Cost\"] = state_df[\"FTE\"]*state_df[\"FTE Cost per month\"] + state_df[\"App_Outsourced\"] * state_df[\"Outsource Cost per App\"]\n",
    "state_df"
   ]
  },
  {
   "cell_type": "code",
   "execution_count": null,
   "metadata": {},
   "outputs": [],
   "source": [
    "state_df[\"Total Cost per App\"] = state_df[\"Total Cost\"]/state_df[\"Demand\"]\n",
    "state_df"
   ]
  },
  {
   "cell_type": "code",
   "execution_count": null,
   "metadata": {},
   "outputs": [],
   "source": [
    "state_df.plot.barh(y=\"Total Cost per App\")\n",
    "plt.xlabel(\"Cost per Application\")\n",
    "plt.title(\"State wise Cost per Application\")\n",
    "plt.show()"
   ]
  },
  {
   "cell_type": "code",
   "execution_count": null,
   "metadata": {},
   "outputs": [],
   "source": [
    "state_df[[\"FTE_Percent\",\"App_Outsourced_Percent\"]].plot(kind=\"bar\",stacked=True)\n",
    "plt.legend(loc='best')\n",
    "plt.xticks(rotation=360)\n",
    "plt.ylabel(\"FTE_percent v/s Outsourced Percent\")\n",
    "plt.title(\"Statewise FTE percent v/s Outsourced Percent\")\n",
    "plt.show()"
   ]
  },
  {
   "cell_type": "markdown",
   "metadata": {},
   "source": [
    "### Insights\n",
    "- From the Best case and Worst case analysis we can conclude that, less the availability of staff which means more the percentage of outsourced applications, the company has to incur more cost.\n",
    "- In Best case scenario the total cost decreased by 1.44 million dollars while for worst case it increased by 1.63 million dollars\n",
    "- From the state wise analysis we see state A has the highest cost per application while state C has the lowest cost per application.\n",
    "- Also, we see that state A has the lowest percentage of outsourced applications as compared to other states."
   ]
  }
 ],
 "metadata": {
  "kernelspec": {
   "display_name": "Python 3",
   "language": "python",
   "name": "python3"
  },
  "language_info": {
   "codemirror_mode": {
    "name": "ipython",
    "version": 3
   },
   "file_extension": ".py",
   "mimetype": "text/x-python",
   "name": "python",
   "nbconvert_exporter": "python",
   "pygments_lexer": "ipython3",
   "version": "3.8.8"
  }
 },
 "nbformat": 4,
 "nbformat_minor": 2
}
